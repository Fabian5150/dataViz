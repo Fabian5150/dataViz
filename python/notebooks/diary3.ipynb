{
 "cells": [
  {
   "cell_type": "code",
   "id": "2d81747ceef1585f",
   "metadata": {
    "ExecuteTime": {
     "end_time": "2025-02-14T12:16:31.249352Z",
     "start_time": "2025-02-14T12:16:31.031826Z"
    }
   },
   "source": [
    "# imports and stuff\n",
    "import warnings\n",
    "warnings.filterwarnings('ignore')\n",
    "\n",
    "import numpy as np\n",
    "import pandas as pd"
   ],
   "outputs": [],
   "execution_count": 1
  },
  {
   "cell_type": "markdown",
   "id": "2a241077db04b679",
   "metadata": {},
   "source": [
    "The Data I chose: Spotify Music Dataset from kaggle ( https://www.kaggle.com/datasets/solomonameh/spotify-music-dataset )\n",
    "It consits of two csv files; high popularity and low popularity"
   ]
  },
  {
   "cell_type": "code",
   "id": "2135217cce19e672",
   "metadata": {
    "ExecuteTime": {
     "end_time": "2025-02-14T12:16:33.313335Z",
     "start_time": "2025-02-14T12:16:33.270879Z"
    }
   },
   "source": [
    "# Importing the data\n",
    "high = pd.read_csv('../data/high_popularity_spotify_data.csv')\n",
    "low = pd.read_csv('../data/low_popularity_spotify_data.csv')\n",
    "# Could I create a merged dataset with an extra 'popularity' column to distinguish the two?"
   ],
   "outputs": [],
   "execution_count": 2
  },
  {
   "metadata": {
    "ExecuteTime": {
     "end_time": "2025-02-14T12:16:35.527040Z",
     "start_time": "2025-02-14T12:16:35.523353Z"
    }
   },
   "cell_type": "code",
   "source": [
    "print('high', high.columns)\n",
    "# print('high', low.columns)\n",
    "\n",
    "print('high', high.shape)\n",
    "print('low', high.shape)"
   ],
   "id": "9121f2b9a8b27217",
   "outputs": [
    {
     "name": "stdout",
     "output_type": "stream",
     "text": [
      "high Index(['energy', 'tempo', 'danceability', 'playlist_genre', 'loudness',\n",
      "       'liveness', 'valence', 'track_artist', 'time_signature', 'speechiness',\n",
      "       'track_popularity', 'track_href', 'uri', 'track_album_name',\n",
      "       'playlist_name', 'analysis_url', 'track_id', 'track_name',\n",
      "       'track_album_release_date', 'instrumentalness', 'track_album_id',\n",
      "       'mode', 'key', 'duration_ms', 'acousticness', 'id', 'playlist_subgenre',\n",
      "       'type', 'playlist_id'],\n",
      "      dtype='object')\n",
      "high (1686, 29)\n",
      "low (1686, 29)\n"
     ]
    }
   ],
   "execution_count": 3
  },
  {
   "metadata": {},
   "cell_type": "markdown",
   "source": [
    "Both have the same columns (and even the same amount of samples)\n",
    "As they already have a 'track_popularity' column, I might not actually need to create one to distinguish the two,\n",
    "if I know the threshold for high & low priority.\\\n",
    "Of course, the question arises, how chose this threshold and why. Maybe looking into the domain of this column can tell me more.\\\n",
    "I think a first interesting research question could be:\"What parameters influence (the most), whether a song is popular or not"
   ],
   "id": "9e8ab0c7bc0a9478"
  },
  {
   "metadata": {},
   "cell_type": "code",
   "outputs": [],
   "execution_count": null,
   "source": "",
   "id": "21d296f6b5fdb331"
  }
 ],
 "metadata": {
  "kernelspec": {
   "display_name": "Python 3 (ipykernel)",
   "language": "python",
   "name": "python3"
  }
 },
 "nbformat": 5,
 "nbformat_minor": 9
}
